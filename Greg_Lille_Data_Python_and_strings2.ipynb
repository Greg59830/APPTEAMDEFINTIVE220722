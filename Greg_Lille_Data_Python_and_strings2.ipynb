{
  "nbformat": 4,
  "nbformat_minor": 0,
  "metadata": {
    "colab": {
      "provenance": [],
      "collapsed_sections": [],
      "include_colab_link": true
    },
    "kernelspec": {
      "name": "python3",
      "display_name": "Python 3"
    }
  },
  "cells": [
    {
      "cell_type": "markdown",
      "metadata": {
        "id": "view-in-github",
        "colab_type": "text"
      },
      "source": [
        "<a href=\"https://colab.research.google.com/github/Greg59830/APPTEAMDEFINTIVE220722/blob/main/Greg_Lille_Data_Python_and_strings2.ipynb\" target=\"_parent\"><img src=\"https://colab.research.google.com/assets/colab-badge.svg\" alt=\"Open In Colab\"/></a>"
      ]
    },
    {
      "cell_type": "markdown",
      "metadata": {
        "id": "LoJw-LlCTnWF"
      },
      "source": [
        "# Mission 1\n",
        "\n",
        "Use the `len` method to display the length of the string named `s` below."
      ]
    },
    {
      "cell_type": "code",
      "metadata": {
        "id": "oweHYwlm1EVo",
        "colab": {
          "base_uri": "https://localhost:8080/"
        },
        "outputId": "c4dafca2-3ab9-4fa7-a742-8131314b9868"
      },
      "source": [
        "s = \"Taumata whakatangihanga koauau o tamatea turi pukaka piki maungah oronuku pokai whenuaki tanatahu \"\n",
        "len(s)"
      ],
      "execution_count": null,
      "outputs": [
        {
          "output_type": "execute_result",
          "data": {
            "text/plain": [
              "98"
            ]
          },
          "metadata": {},
          "execution_count": 8
        }
      ]
    },
    {
      "cell_type": "markdown",
      "metadata": {
        "id": "wruMhTKTx-_T"
      },
      "source": [
        "Now, iterate on this string to count only non-space characters.\n",
        "\n",
        "Remember, using a `for` loop on a string will browse all the individual characters of it!"
      ]
    },
    {
      "cell_type": "code",
      "metadata": {
        "id": "ze_3CDrJx9re",
        "colab": {
          "base_uri": "https://localhost:8080/"
        },
        "outputId": "9fe400ea-aad8-4355-a1eb-7164a9164af7"
      },
      "source": [
        "count_char = 0\n",
        "for char in s:\n",
        "  if char !=\" \":\n",
        "    count_char += 1\n",
        "print(count_char)"
      ],
      "execution_count": null,
      "outputs": [
        {
          "output_type": "stream",
          "name": "stdout",
          "text": [
            "85\n"
          ]
        }
      ]
    },
    {
      "cell_type": "markdown",
      "metadata": {
        "id": "2BSzzT3_DDOK"
      },
      "source": [
        "# Mission 2\n",
        "\n",
        "Ask the user for a string, then for a character (we assume user input follows the rules). Then, display the positions, **starting with 1**, of all occurrences of the character within the string.\n",
        "\n",
        "For example, for the word \"welcome\" and for the character \"e\", the script will display:\n",
        "```\n",
        "position: 2\n",
        "position: 7\n",
        "```"
      ]
    },
    {
      "cell_type": "code",
      "metadata": {
        "id": "Fy1OmPSUXNaP",
        "colab": {
          "base_uri": "https://localhost:8080/"
        },
        "outputId": "b0274dba-f55b-48c1-cea5-aa1d35ddfed5"
      },
      "source": [
        "phrase1 = input(\"choisissez votre mot:\")\n",
        "phrase2 = input(\"choisissez votre lettre:\")\n",
        "for i in range (0,len(phrase1)):\n",
        "  if phrase1[i] == phrase2:\n",
        "    print(f\"position{i+1}\")\n",
        "\n"
      ],
      "execution_count": null,
      "outputs": [
        {
          "output_type": "stream",
          "name": "stdout",
          "text": [
            "choisissez votre mot:comprehension\n",
            "choisissez votre lettre:e\n",
            "position6\n",
            "position8\n"
          ]
        }
      ]
    },
    {
      "cell_type": "markdown",
      "metadata": {
        "id": "pLZi_mgzFvMP"
      },
      "source": [
        "# Mission 3\n",
        "\n",
        "Ask the user for a string, then for an integer. Then, display the string repeated as many times as the given integer.\n",
        "\n",
        "For example, `badger` and `4` will display `badgerbadgerbadgerbadger`"
      ]
    },
    {
      "cell_type": "code",
      "metadata": {
        "id": "pN3_mD4YSPfb",
        "colab": {
          "base_uri": "https://localhost:8080/"
        },
        "outputId": "dcb3ca60-1649-460d-a183-241883acd530"
      },
      "source": [
        "str1 = input(\"choisissez votre mot: \")\n",
        "num1 = input (\"choisissez le nombre de répétition: \")\n",
        "print(str1*int(num1))\n"
      ],
      "execution_count": null,
      "outputs": [
        {
          "output_type": "stream",
          "name": "stdout",
          "text": [
            "choisissez votre mot: test\n",
            "choisissez le nombre de répétition: 4\n",
            "testtesttesttest\n"
          ]
        }
      ]
    },
    {
      "cell_type": "markdown",
      "metadata": {
        "id": "GCvpkWzXXPTf"
      },
      "source": [
        "# Mission 4\n",
        "\n",
        "Display the following string without including the spaces at the beginning and end. There's a `string` method that does exactly that, look at the documentation!"
      ]
    },
    {
      "cell_type": "code",
      "metadata": {
        "id": "KZT8AIPF0ery",
        "colab": {
          "base_uri": "https://localhost:8080/"
        },
        "outputId": "e7302b22-22ed-4b91-d79c-220c07a2df19"
      },
      "source": [
        "s = \"   Data Analyst  \"\n",
        "print(s.strip())"
      ],
      "execution_count": null,
      "outputs": [
        {
          "output_type": "stream",
          "name": "stdout",
          "text": [
            "Data Analyst\n"
          ]
        }
      ]
    },
    {
      "cell_type": "markdown",
      "metadata": {
        "id": "geMLdrvAYHKx"
      },
      "source": [
        "# Mission 5\n",
        "\n",
        "Ask the user for a string, then for a character, then for another character.\n",
        "\n",
        "Then, display the first string where the occurences of the first character are replaced by the second one."
      ]
    },
    {
      "cell_type": "code",
      "metadata": {
        "id": "1-cenx3RSPpq",
        "colab": {
          "base_uri": "https://localhost:8080/"
        },
        "outputId": "19dcbae3-46ac-4948-b800-d7d32fdb33e4"
      },
      "source": [
        "text= input(\"Quelle est votre phrase?\")\n",
        "letter1= input(\"votre lettre?\")\n",
        "letter2= input(\"votre lettre à remplacer?\")\n",
        "\n",
        "print(text.replace (letter1,letter2))"
      ],
      "execution_count": null,
      "outputs": [
        {
          "output_type": "stream",
          "name": "stdout",
          "text": [
            "Quelle est votre phrase?J'ai fini\n",
            "votre lettre?a\n",
            "votre lettre à remplacer?e\n",
            "J'ei fini\n"
          ]
        }
      ]
    },
    {
      "cell_type": "markdown",
      "metadata": {
        "id": "V8ZS3aECXvuZ"
      },
      "source": [
        "# Mission 6\n",
        "\n",
        "Ask the user for a string. Then, display the same string with all vowels converted to uppercase, and all consonants converted to lowercase."
      ]
    },
    {
      "cell_type": "code",
      "metadata": {
        "id": "ph_j97PoSPmU",
        "colab": {
          "base_uri": "https://localhost:8080/"
        },
        "outputId": "23d2f376-97a1-4309-b5a3-cb1bc42c7e0b"
      },
      "source": [
        "text_input = input(\"Quelle est votre phrase?\")\n",
        "final_text = ''\n",
        "vowels = 'aeiuoAEIOU'\n",
        "\n",
        "\n",
        "for char in text_input:\n",
        "    \n",
        "    if char in vowels:\n",
        "      \n",
        "     \n",
        "         final_text += char.upper()\n",
        "   \n",
        "    else :\n",
        "        \n",
        "        final_text += char.lower()\n",
        "\n",
        "print(final_text)"
      ],
      "execution_count": null,
      "outputs": [
        {
          "output_type": "stream",
          "name": "stdout",
          "text": [
            "Quelle est votre phrase?JE NE COMPRENDS RIEN\n",
            "jE nE cOmprEnds rIEn\n"
          ]
        }
      ]
    }
  ]
}